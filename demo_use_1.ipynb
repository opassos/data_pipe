{
 "cells": [
  {
   "cell_type": "code",
   "execution_count": 1,
   "metadata": {},
   "outputs": [],
   "source": [
    "import torchdata.datapipes as dp\n",
    "from torchvision import transforms\n",
    "from torch.utils.data.datapipes.utils.decoder import imagehandler\n",
    "from sklearn.model_selection import train_test_split\n",
    "from pathlib import Path"
   ]
  },
  {
   "cell_type": "markdown",
   "metadata": {},
   "source": [
    "# Demo use Case 1\n",
    "\n",
    "This demo is to demonstrate a common use case:\n",
    "\n",
    "* download csv\n",
    "* split train val test\n",
    "* download images based on csv column in their respective train/val/test folders"
   ]
  },
  {
   "cell_type": "code",
   "execution_count": 2,
   "metadata": {},
   "outputs": [],
   "source": [
    "csv_url = 's3://ml-ops-datasets/sdk_data_demo/dataset_demo.csv'"
   ]
  },
  {
   "cell_type": "code",
   "execution_count": 3,
   "metadata": {},
   "outputs": [],
   "source": [
    "def split_data_from_csv(csv_url, root_dir):\n",
    "\n",
    "    def save_to_disk(rows): print(rows)\n",
    "\n",
    "    csv_rows = list(dp.iter.IoPathFileOpener([csv_url], mode='rt').parse_csv())\n",
    "    col_names = csv_rows.pop(0)\n",
    "\n",
    "    train_csv_rows, test_csv_rows = train_test_split(csv_rows)\n",
    "\n",
    "    datapipe = dp.iter.IterableWrapper(train_csv_rows).map(save_to_disk)\n",
    "\n",
    "    return datapipe\n",
    "\n",
    "    # x_dp, y_dp, _ = source_dp.unzip(sequence_length=3)\n",
    "\n",
    "    # x_dp = (\n",
    "    #     x_dp\n",
    "    #     .open_file_by_iopath(mode=\"rb\")\n",
    "    #     .routed_decode(imagehandler('pil'))\n",
    "    # )\n",
    "\n",
    "    # out_dp = x_dp.zip(y_dp).map(collate_sample)\n",
    "    "
   ]
  },
  {
   "cell_type": "code",
   "execution_count": 4,
   "metadata": {},
   "outputs": [
    {
     "name": "stdout",
     "output_type": "stream",
     "text": [
      "['s3://ml-ops-datasets/MPE/surgeon/crops_per_group/train/nut/good/1628617593512_left_RT_nut_3.jpg', 'good', 'train']\n"
     ]
    }
   ],
   "source": [
    "next(iter(split_data_from_csv(csv_url, 'tmp')))"
   ]
  },
  {
   "cell_type": "code",
   "execution_count": 5,
   "metadata": {},
   "outputs": [],
   "source": [
    "class DataFromCSV():\n",
    "    def __init__(self, csv_url):\n",
    "        self.csv_rows = list(dp.iter.IoPathFileOpener([csv_url], mode='rt').parse_csv())\n",
    "        self.col_names = self.csv_rows.pop(0)\n",
    "\n",
    "    def __iter__():\n",
    "        return None\n",
    "\n",
    "datapipe = DataFromCSV(csv_url)"
   ]
  },
  {
   "cell_type": "code",
   "execution_count": null,
   "metadata": {},
   "outputs": [],
   "source": []
  },
  {
   "cell_type": "markdown",
   "metadata": {},
   "source": [
    "## Fixing s3 bucket stuff"
   ]
  },
  {
   "cell_type": "code",
   "execution_count": 39,
   "metadata": {},
   "outputs": [],
   "source": [
    "import os\n",
    "import iopath\n",
    "from torchdata.datapipes.iter import IterDataPipe\n",
    "from torch.utils.data.datapipes.utils.common import match_masks\n",
    "\n",
    "def _create_default_pathmanager():\n",
    "    from iopath.common.file_io import HTTPURLHandler, OneDrivePathHandler, PathManager\n",
    "\n",
    "    pathmgr = PathManager()\n",
    "    pathmgr.register_handler(HTTPURLHandler(), allow_override=True)\n",
    "    pathmgr.register_handler(OneDrivePathHandler(), allow_override=True)\n",
    "    # S3PathHandler is not included in 0.1.8\n",
    "    try:\n",
    "        from iopath.common.s3 import S3PathHandler\n",
    "\n",
    "        pathmgr.register_handler(S3PathHandler(), allow_override=True)\n",
    "    except ImportError:\n",
    "        pass\n",
    "    return pathmgr\n",
    "\n",
    "class IoPathFileListerIterDataPipe(IterDataPipe[str]):\n",
    "\n",
    "    def __init__(\n",
    "        self,\n",
    "        root: str,\n",
    "        masks = \"\",\n",
    "        *,\n",
    "        pathmgr=None,\n",
    "    ) -> None:\n",
    "        if iopath is None:\n",
    "            raise ModuleNotFoundError(\n",
    "                \"Package `iopath` is required to be installed to use this datapipe.\"\n",
    "                \"Please use `pip install iopath` or `conda install -c conda-forge iopath`\"\n",
    "                \"to install the package\"\n",
    "            )\n",
    "\n",
    "        self.bucket = '/'.join(S3URL.split('/')[:3]) + '/'\n",
    "        self.root: str = root\n",
    "        self.pathmgr = _create_default_pathmanager() if pathmgr is None else pathmgr\n",
    "        self.masks = masks\n",
    "\n",
    "    def register_handler(self, handler, allow_override=False):\n",
    "        self.pathmgr.register_handler(handler, allow_override=allow_override)\n",
    "\n",
    "    def __iter__(self):\n",
    "        if self.pathmgr.isfile(self.root):\n",
    "            yield self.root\n",
    "        else:\n",
    "            for file_name in self.pathmgr.ls(self.root):\n",
    "                if match_masks(file_name, self.masks):\n",
    "                    yield os.path.join(self.bucket, file_name)"
   ]
  },
  {
   "cell_type": "code",
   "execution_count": 45,
   "metadata": {},
   "outputs": [],
   "source": [
    "S3URL = 's3://ml-ops-datasets/MPE/surgeon/crops_per_group/train/nut/'\n",
    "\n",
    "sub_pipes = []\n",
    "for sub_folder in IoPathFileListerIterDataPipe(root=S3URL):\n",
    "    sub_pipes.append(IoPathFileListerIterDataPipe(root=sub_folder))\n",
    "\n",
    "# list(sub_pipes[0])\n",
    "pipeline = (\n",
    "    dp.iter.Concater(*sub_pipes)\n",
    "    .open_file_by_iopath(mode=\"rb\")\n",
    "    .routed_decode(imagehandler('pil'))\n",
    ")\n",
    "\n"
   ]
  },
  {
   "cell_type": "code",
   "execution_count": 46,
   "metadata": {},
   "outputs": [
    {
     "data": {
      "text/plain": [
       "('s3://ml-ops-datasets/MPE/surgeon/crops_per_group/train/nut/bad/1628597690568_left_RT_nut_1.jpg',\n",
       " <PIL.Image.Image image mode=RGB size=55x58 at 0x7FB653A81700>)"
      ]
     },
     "execution_count": 46,
     "metadata": {},
     "output_type": "execute_result"
    }
   ],
   "source": [
    "next(iter(pipeline))"
   ]
  },
  {
   "cell_type": "markdown",
   "metadata": {},
   "source": [
    "# Demo use Case 2\n",
    "\n",
    "* download image folder\n",
    "* split image folder train val test with directory hierarchy preserved"
   ]
  },
  {
   "cell_type": "code",
   "execution_count": 54,
   "metadata": {},
   "outputs": [],
   "source": [
    "def collate_sample(data):\n",
    "    path, image = data\n",
    "    label_str = os.path.split(os.path.dirname(path))[1]\n",
    "    return {\"path\": path, \"image\": image, \"label\": label_str}"
   ]
  },
  {
   "cell_type": "code",
   "execution_count": 55,
   "metadata": {},
   "outputs": [],
   "source": [
    "S3URL = 's3://ml-ops-datasets/MPE/surgeon/crops_per_group/train/nut/'\n",
    "\n",
    "sub_pipes = []\n",
    "for sub_folder in IoPathFileListerIterDataPipe(root=S3URL):\n",
    "    sub_pipes.append(IoPathFileListerIterDataPipe(root=sub_folder))\n",
    "\n",
    "pipeline = (\n",
    "    dp.iter.Concater(*sub_pipes)\n",
    "    .open_file_by_iopath(mode=\"rb\")\n",
    "    .routed_decode(imagehandler('pil'))\n",
    "    .map(collate_sample)\n",
    ")\n"
   ]
  },
  {
   "cell_type": "code",
   "execution_count": 56,
   "metadata": {},
   "outputs": [
    {
     "data": {
      "text/plain": [
       "{'path': 's3://ml-ops-datasets/MPE/surgeon/crops_per_group/train/nut/bad/1628597690568_left_RT_nut_1.jpg',\n",
       " 'image': <PIL.Image.Image image mode=RGB size=55x58 at 0x7FB653094FA0>,\n",
       " 'label': 'bad'}"
      ]
     },
     "execution_count": 56,
     "metadata": {},
     "output_type": "execute_result"
    }
   ],
   "source": [
    "next(iter(pipeline))"
   ]
  },
  {
   "cell_type": "markdown",
   "metadata": {},
   "source": [
    "# Demo use Case 3"
   ]
  },
  {
   "cell_type": "code",
   "execution_count": 18,
   "metadata": {},
   "outputs": [],
   "source": [
    "csv_url = 's3://ml-ops-datasets/sdk_data_demo/dataset_demo.csv'"
   ]
  },
  {
   "cell_type": "code",
   "execution_count": 20,
   "metadata": {},
   "outputs": [],
   "source": [
    "def collate_sample(data):\n",
    "    (path, image), label = data\n",
    "    return {\"image\": image, \"label\": int(label == 'good')}\n",
    "\n",
    "def datapipe_from_csv(csv_url, split = 'train'):\n",
    "    csv_rows = list(dp.iter.IoPathFileOpener([csv_url], mode='rt').parse_csv())\n",
    "    col_names = csv_rows.pop(0)\n",
    "\n",
    "    def _filter(x): return x[2] == split\n",
    "    source_dp = (\n",
    "        dp.iter.IterableWrapper(csv_rows)\n",
    "        .filter(_filter)\n",
    "    )\n",
    "\n",
    "    x_dp, y_dp, _ = source_dp.unzip(sequence_length=3)\n",
    "\n",
    "    x_dp = (\n",
    "        x_dp\n",
    "        .open_file_by_iopath(mode=\"rb\")\n",
    "        .routed_decode(imagehandler('pil'))\n",
    "    )\n",
    "\n",
    "    out_dp = x_dp.zip(y_dp).map(collate_sample)\n",
    "\n",
    "    return out_dp"
   ]
  },
  {
   "cell_type": "code",
   "execution_count": 21,
   "metadata": {},
   "outputs": [
    {
     "data": {
      "text/plain": [
       "{'image': <PIL.Image.Image image mode=RGB size=69x71 at 0x7FA47E0D6760>,\n",
       " 'label': 0}"
      ]
     },
     "execution_count": 21,
     "metadata": {},
     "output_type": "execute_result"
    }
   ],
   "source": [
    "next(iter(datapipe_from_csv(csv_url, 'test')))"
   ]
  },
  {
   "cell_type": "code",
   "execution_count": null,
   "metadata": {},
   "outputs": [],
   "source": []
  }
 ],
 "metadata": {
  "interpreter": {
   "hash": "24353ae1934fab96e504e2fa1613a0c9d05a0896896b83da7d0ffe6921149c5e"
  },
  "kernelspec": {
   "display_name": "Python 3.9.10 ('base')",
   "language": "python",
   "name": "python3"
  },
  "language_info": {
   "codemirror_mode": {
    "name": "ipython",
    "version": 3
   },
   "file_extension": ".py",
   "mimetype": "text/x-python",
   "name": "python",
   "nbconvert_exporter": "python",
   "pygments_lexer": "ipython3",
   "version": "3.9.10"
  },
  "orig_nbformat": 4
 },
 "nbformat": 4,
 "nbformat_minor": 2
}
