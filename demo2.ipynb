{
 "cells": [],
 "metadata": {
  "interpreter": {
   "hash": "24353ae1934fab96e504e2fa1613a0c9d05a0896896b83da7d0ffe6921149c5e"
  },
  "kernelspec": {
   "display_name": "Python 3.9.10 ('base')",
   "language": "python",
   "name": "python3"
  },
  "language_info": {
   "name": "python",
   "version": "3.9.10"
  },
  "orig_nbformat": 4
 },
 "nbformat": 4,
 "nbformat_minor": 2
}
