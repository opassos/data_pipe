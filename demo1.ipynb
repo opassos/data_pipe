{
 "cells": [
  {
   "cell_type": "markdown",
   "metadata": {},
   "source": [
    "# Working with DataLoader"
   ]
  },
  {
   "cell_type": "code",
   "execution_count": 1,
   "metadata": {},
   "outputs": [],
   "source": [
    "import csv\n",
    "import random\n",
    "\n",
    "def generate_csv(root_dir, file_label, num_rows: int = 5000, num_features: int = 20) -> None:\n",
    "    fieldnames = ['label'] + [f'c{i}' for i in range(num_features)]\n",
    "    writer = csv.DictWriter(open(f\"{root_dir}/sample_data{file_label}.csv\", \"w\"), fieldnames=fieldnames)\n",
    "    writer.writerow({col: col for col in fieldnames})  # writing the header row\n",
    "    for i in range(num_rows):\n",
    "        row_data = {col: random.random() for col in fieldnames}\n",
    "        row_data['label'] = random.randint(0, 9)\n",
    "        writer.writerow(row_data)"
   ]
  },
  {
   "cell_type": "code",
   "execution_count": 2,
   "metadata": {},
   "outputs": [
    {
     "name": "stderr",
     "output_type": "stream",
     "text": [
      "/home/adriano/miniconda3/lib/python3.9/site-packages/tqdm/auto.py:22: TqdmWarning: IProgress not found. Please update jupyter and ipywidgets. See https://ipywidgets.readthedocs.io/en/stable/user_install.html\n",
      "  from .autonotebook import tqdm as notebook_tqdm\n"
     ]
    }
   ],
   "source": [
    "import numpy as np\n",
    "import torchdata.datapipes as dp\n",
    "\n",
    "def build_datapipes(root_dir=\".\"):\n",
    "    datapipe = dp.iter.FileLister(root_dir)\n",
    "    datapipe = datapipe.filter(filter_fn=lambda filename: \"sample_data\" in filename and filename.endswith(\".csv\"))\n",
    "    datapipe = dp.iter.FileOpener(datapipe, mode='rt')\n",
    "    datapipe = datapipe.parse_csv(delimiter=\",\", skip_lines=1)\n",
    "    datapipe = datapipe.map(lambda row: {\"label\": np.array(row[0], np.int32),\n",
    "                                         \"data\": np.array(row[1:], dtype=np.float64)})\n",
    "    return datapipe"
   ]
  },
  {
   "cell_type": "code",
   "execution_count": 3,
   "metadata": {},
   "outputs": [],
   "source": [
    "import os\n",
    "root_dir = 'data/demo1'\n",
    "os.makedirs(root_dir, exist_ok=True)"
   ]
  },
  {
   "cell_type": "code",
   "execution_count": 4,
   "metadata": {},
   "outputs": [],
   "source": [
    "from torch.utils.data import DataLoader\n",
    "\n",
    "num_files_to_generate = 3\n",
    "for i in range(num_files_to_generate):\n",
    "    generate_csv(root_dir, file_label=i)"
   ]
  },
  {
   "cell_type": "code",
   "execution_count": 5,
   "metadata": {},
   "outputs": [
    {
     "name": "stderr",
     "output_type": "stream",
     "text": [
      "/home/adriano/miniconda3/lib/python3.9/site-packages/torch/utils/data/datapipes/iter/selecting.py:54: UserWarning: Lambda function is not supported for pickle, please use regular python function or functools.partial instead.\n",
      "  warnings.warn(\"Lambda function is not supported for pickle, please use \"\n",
      "/home/adriano/miniconda3/lib/python3.9/site-packages/torch/utils/data/datapipes/utils/common.py:24: UserWarning: Lambda function is not supported for pickle, please use regular python function or functools.partial instead.\n",
      "  warnings.warn(\n"
     ]
    }
   ],
   "source": [
    "datapipe = build_datapipes(root_dir)\n",
    "dl = DataLoader(dataset=datapipe, batch_size=4, shuffle=True)"
   ]
  },
  {
   "cell_type": "code",
   "execution_count": 6,
   "metadata": {},
   "outputs": [
    {
     "name": "stdout",
     "output_type": "stream",
     "text": [
      "Labels batch shape: torch.Size([4])\n",
      "Feature batch shape: torch.Size([4, 20])\n"
     ]
    }
   ],
   "source": [
    "first = next(iter(dl))\n",
    "labels, features = first['label'], first['data']\n",
    "print(f\"Labels batch shape: {labels.size()}\")\n",
    "print(f\"Feature batch shape: {features.size()}\")"
   ]
  },
  {
   "cell_type": "code",
   "execution_count": 7,
   "metadata": {},
   "outputs": [
    {
     "data": {
      "text/plain": [
       "tensor([1, 2, 2, 1], dtype=torch.int32)"
      ]
     },
     "execution_count": 7,
     "metadata": {},
     "output_type": "execute_result"
    }
   ],
   "source": [
    "labels"
   ]
  },
  {
   "cell_type": "code",
   "execution_count": 8,
   "metadata": {},
   "outputs": [
    {
     "data": {
      "text/plain": [
       "tensor([[0.1605, 0.4524, 0.6453, 0.3441, 0.8943, 0.9665, 0.7061, 0.0848, 0.0392,\n",
       "         0.7990, 0.3001, 0.2297, 0.9757, 0.4467, 0.1888, 0.2140, 0.6491, 0.1927,\n",
       "         0.3649, 0.6646],\n",
       "        [0.5885, 0.1191, 0.0158, 0.9088, 0.3281, 0.3654, 0.8590, 0.4963, 0.4889,\n",
       "         0.3741, 0.6869, 0.7386, 0.8826, 0.0956, 0.6551, 0.6319, 0.2490, 0.8867,\n",
       "         0.9994, 0.6703],\n",
       "        [0.5185, 0.8365, 0.8828, 0.6613, 0.8167, 0.6729, 0.4997, 0.8273, 0.6124,\n",
       "         0.2519, 0.3120, 0.6760, 0.4806, 0.3849, 0.9350, 0.5775, 0.6906, 0.3942,\n",
       "         0.5723, 0.3695],\n",
       "        [0.1265, 0.9049, 0.9926, 0.3432, 0.3639, 0.5668, 0.0344, 0.1707, 0.6944,\n",
       "         0.1797, 0.7056, 0.3878, 0.1656, 0.1083, 0.3677, 0.3308, 0.2670, 0.6090,\n",
       "         0.5456, 0.6112]], dtype=torch.float64)"
      ]
     },
     "execution_count": 8,
     "metadata": {},
     "output_type": "execute_result"
    }
   ],
   "source": [
    "features"
   ]
  },
  {
   "cell_type": "code",
   "execution_count": null,
   "metadata": {},
   "outputs": [],
   "source": []
  }
 ],
 "metadata": {
  "interpreter": {
   "hash": "24353ae1934fab96e504e2fa1613a0c9d05a0896896b83da7d0ffe6921149c5e"
  },
  "kernelspec": {
   "display_name": "Python 3.9.10 ('base')",
   "language": "python",
   "name": "python3"
  },
  "language_info": {
   "codemirror_mode": {
    "name": "ipython",
    "version": 3
   },
   "file_extension": ".py",
   "mimetype": "text/x-python",
   "name": "python",
   "nbconvert_exporter": "python",
   "pygments_lexer": "ipython3",
   "version": "3.9.10"
  },
  "orig_nbformat": 4
 },
 "nbformat": 4,
 "nbformat_minor": 2
}
