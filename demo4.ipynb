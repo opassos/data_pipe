{
 "cells": [
  {
   "cell_type": "code",
   "execution_count": 1,
   "metadata": {},
   "outputs": [],
   "source": [
    "import torchdata.datapipes as dp\n",
    "from torch.utils.data.datapipes.utils.decoder import imagehandler\n",
    "from tqdm.auto import tqdm"
   ]
  },
  {
   "cell_type": "code",
   "execution_count": 2,
   "metadata": {},
   "outputs": [],
   "source": [
    "S3URL = 's3://ml-ops-datasets/MPE/surgeon/crops_per_group/train/nut/bad/'\n",
    "\n",
    "def S3_pipe(S3url):\n",
    "    bucket = '/'.join(S3URL.split('/')[:3]) + '/'\n",
    "    def s3_url_hack(path): return path.replace(S3url, bucket)\n",
    "\n",
    "    return (\n",
    "        dp.iter.IoPathFileLister(root=S3url)\n",
    "        .map(s3_url_hack) # hack to fix path doubling\n",
    "        .open_file_by_iopath(mode=\"rb\")\n",
    "        .routed_decode(imagehandler('pil'))\n",
    "        .in_memory_cache()\n",
    "    )\n",
    "datapipe = S3_pipe(S3URL)"
   ]
  },
  {
   "cell_type": "code",
   "execution_count": 4,
   "metadata": {},
   "outputs": [
    {
     "data": {
      "application/vnd.jupyter.widget-view+json": {
       "model_id": "325161dd9c6c4a789e28f6ad4a34e1be",
       "version_major": 2,
       "version_minor": 0
      },
      "text/plain": [
       "  0%|          | 0/5 [00:00<?, ?it/s]"
      ]
     },
     "metadata": {},
     "output_type": "display_data"
    },
    {
     "data": {
      "application/vnd.jupyter.widget-view+json": {
       "model_id": "a746922e2cc948cd8b527383fef2ce69",
       "version_major": 2,
       "version_minor": 0
      },
      "text/plain": [
       "0it [00:00, ?it/s]"
      ]
     },
     "metadata": {},
     "output_type": "display_data"
    },
    {
     "data": {
      "application/vnd.jupyter.widget-view+json": {
       "model_id": "2b5d6c6c06e64e4b8b5852b6c164441e",
       "version_major": 2,
       "version_minor": 0
      },
      "text/plain": [
       "  0%|          | 0/108 [00:00<?, ?it/s]"
      ]
     },
     "metadata": {},
     "output_type": "display_data"
    },
    {
     "data": {
      "application/vnd.jupyter.widget-view+json": {
       "model_id": "0c2a5441cc4c4cb782e69d5d515fadfd",
       "version_major": 2,
       "version_minor": 0
      },
      "text/plain": [
       "  0%|          | 0/108 [00:00<?, ?it/s]"
      ]
     },
     "metadata": {},
     "output_type": "display_data"
    },
    {
     "data": {
      "application/vnd.jupyter.widget-view+json": {
       "model_id": "409186e1283d44b9acadfab023302e64",
       "version_major": 2,
       "version_minor": 0
      },
      "text/plain": [
       "  0%|          | 0/108 [00:00<?, ?it/s]"
      ]
     },
     "metadata": {},
     "output_type": "display_data"
    },
    {
     "data": {
      "application/vnd.jupyter.widget-view+json": {
       "model_id": "bbbebe824bd24e7eb86a177165204444",
       "version_major": 2,
       "version_minor": 0
      },
      "text/plain": [
       "  0%|          | 0/108 [00:00<?, ?it/s]"
      ]
     },
     "metadata": {},
     "output_type": "display_data"
    }
   ],
   "source": [
    "for epoch in tqdm(range(5)):\n",
    "    for path, file in tqdm(datapipe):\n",
    "        pass"
   ]
  },
  {
   "cell_type": "code",
   "execution_count": 5,
   "metadata": {},
   "outputs": [
    {
     "name": "stdout",
     "output_type": "stream",
     "text": [
      "s3://ml-ops-datasets/MPE/surgeon/crops_per_group/train/nut/bad/1644853009153_left_RT_nut_4.jpg\n"
     ]
    },
    {
     "data": {
      "image/png": "[encoded data removed]",
      "text/plain": [
       "<PIL.Image.Image image mode=RGB size=73x72 at 0x7F32BDE4EBB0>"
      ]
     },
     "execution_count": 5,
     "metadata": {},
     "output_type": "execute_result"
    }
   ],
   "source": [
    "print(path)\n",
    "file"
   ]
  },
  {
   "cell_type": "markdown",
   "metadata": {},
   "source": [
    "## TODO: Figure out disk cache"
   ]
  },
  {
   "cell_type": "code",
   "execution_count": 27,
   "metadata": {},
   "outputs": [],
   "source": [
    "# https://pytorch.org/data/main/generated/torchdata.datapipes.iter.OnDiskCacheHolder.html\n",
    "\n",
    "S3URL = 's3://ml-ops-datasets/MPE/surgeon/crops_per_group/train/nut/bad/'\n",
    "\n",
    "def S3_pipe(S3url):\n",
    "    import os\n",
    "\n",
    "    bucket = '/'.join(S3URL.split('/')[:3]) + '/'\n",
    "    def _s3_url_hack(path): return path.replace(S3url, bucket)\n",
    "    def _filepath_fn(url): return os.path.join('tmp', os.path.basename(url))\n",
    "\n",
    "    return (\n",
    "        dp.iter.IoPathFileLister(root=S3url)\n",
    "        .map(_s3_url_hack) # hack to fix path doubling\n",
    "        .on_disk_cache(filepath_fn=_filepath_fn)\n",
    "        .open_file_by_iopath(mode=\"rb\")\n",
    "        .routed_decode(imagehandler('pil'))\n",
    "        .end_caching(mode=\"wb\", filepath_fn=_filepath_fn)\n",
    "    )\n",
    "datapipe = S3_pipe(S3URL)"
   ]
  },
  {
   "cell_type": "code",
   "execution_count": 28,
   "metadata": {},
   "outputs": [
    {
     "data": {
      "application/vnd.jupyter.widget-view+json": {
       "model_id": "a044db09728644869e074c688d2cf52d",
       "version_major": 2,
       "version_minor": 0
      },
      "text/plain": [
       "  0%|          | 0/5 [00:00<?, ?it/s]"
      ]
     },
     "metadata": {},
     "output_type": "display_data"
    },
    {
     "data": {
      "application/vnd.jupyter.widget-view+json": {
       "model_id": "96af1d374051480482b8b00c70644338",
       "version_major": 2,
       "version_minor": 0
      },
      "text/plain": [
       "0it [00:00, ?it/s]"
      ]
     },
     "metadata": {},
     "output_type": "display_data"
    },
    {
     "ename": "TypeError",
     "evalue": "can only join an iterable",
     "output_type": "error",
     "traceback": [
      "\u001b[0;31m---------------------------------------------------------------------------\u001b[0m",
      "\u001b[0;31mTypeError\u001b[0m                                 Traceback (most recent call last)",
      "\u001b[1;32m/home/adriano/data_pipe/demo4.ipynb Cell 6'\u001b[0m in \u001b[0;36m<cell line: 1>\u001b[0;34m()\u001b[0m\n\u001b[1;32m      <a href='vscode-notebook-cell://wsl%2Bubuntu/home/adriano/data_pipe/demo4.ipynb#ch0000069vscode-remote?line=0'>1</a>\u001b[0m \u001b[39mfor\u001b[39;00m epoch \u001b[39min\u001b[39;00m tqdm(\u001b[39mrange\u001b[39m(\u001b[39m5\u001b[39m)):\n\u001b[0;32m----> <a href='vscode-notebook-cell://wsl%2Bubuntu/home/adriano/data_pipe/demo4.ipynb#ch0000069vscode-remote?line=1'>2</a>\u001b[0m     \u001b[39mfor\u001b[39;00m path, file \u001b[39min\u001b[39;00m tqdm(datapipe):\n\u001b[1;32m      <a href='vscode-notebook-cell://wsl%2Bubuntu/home/adriano/data_pipe/demo4.ipynb#ch0000069vscode-remote?line=2'>3</a>\u001b[0m         \u001b[39mpass\u001b[39;00m\n",
      "File \u001b[0;32m~/miniconda3/lib/python3.9/site-packages/tqdm/notebook.py:257\u001b[0m, in \u001b[0;36mtqdm_notebook.__iter__\u001b[0;34m(self)\u001b[0m\n\u001b[1;32m    <a href='file:///home/adriano/miniconda3/lib/python3.9/site-packages/tqdm/notebook.py?line=254'>255</a>\u001b[0m \u001b[39mdef\u001b[39;00m \u001b[39m__iter__\u001b[39m(\u001b[39mself\u001b[39m):\n\u001b[1;32m    <a href='file:///home/adriano/miniconda3/lib/python3.9/site-packages/tqdm/notebook.py?line=255'>256</a>\u001b[0m     \u001b[39mtry\u001b[39;00m:\n\u001b[0;32m--> <a href='file:///home/adriano/miniconda3/lib/python3.9/site-packages/tqdm/notebook.py?line=256'>257</a>\u001b[0m         \u001b[39mfor\u001b[39;00m obj \u001b[39min\u001b[39;00m \u001b[39msuper\u001b[39m(tqdm_notebook, \u001b[39mself\u001b[39m)\u001b[39m.\u001b[39m\u001b[39m__iter__\u001b[39m():\n\u001b[1;32m    <a href='file:///home/adriano/miniconda3/lib/python3.9/site-packages/tqdm/notebook.py?line=257'>258</a>\u001b[0m             \u001b[39m# return super(tqdm...) will not catch exception\u001b[39;00m\n\u001b[1;32m    <a href='file:///home/adriano/miniconda3/lib/python3.9/site-packages/tqdm/notebook.py?line=258'>259</a>\u001b[0m             \u001b[39myield\u001b[39;00m obj\n\u001b[1;32m    <a href='file:///home/adriano/miniconda3/lib/python3.9/site-packages/tqdm/notebook.py?line=259'>260</a>\u001b[0m     \u001b[39m# NB: except ... [ as ...] breaks IPython async KeyboardInterrupt\u001b[39;00m\n",
      "File \u001b[0;32m~/miniconda3/lib/python3.9/site-packages/tqdm/std.py:1195\u001b[0m, in \u001b[0;36mtqdm.__iter__\u001b[0;34m(self)\u001b[0m\n\u001b[1;32m   <a href='file:///home/adriano/miniconda3/lib/python3.9/site-packages/tqdm/std.py?line=1191'>1192</a>\u001b[0m time \u001b[39m=\u001b[39m \u001b[39mself\u001b[39m\u001b[39m.\u001b[39m_time\n\u001b[1;32m   <a href='file:///home/adriano/miniconda3/lib/python3.9/site-packages/tqdm/std.py?line=1193'>1194</a>\u001b[0m \u001b[39mtry\u001b[39;00m:\n\u001b[0;32m-> <a href='file:///home/adriano/miniconda3/lib/python3.9/site-packages/tqdm/std.py?line=1194'>1195</a>\u001b[0m     \u001b[39mfor\u001b[39;00m obj \u001b[39min\u001b[39;00m iterable:\n\u001b[1;32m   <a href='file:///home/adriano/miniconda3/lib/python3.9/site-packages/tqdm/std.py?line=1195'>1196</a>\u001b[0m         \u001b[39myield\u001b[39;00m obj\n\u001b[1;32m   <a href='file:///home/adriano/miniconda3/lib/python3.9/site-packages/tqdm/std.py?line=1196'>1197</a>\u001b[0m         \u001b[39m# Update and possibly print the progressbar.\u001b[39;00m\n\u001b[1;32m   <a href='file:///home/adriano/miniconda3/lib/python3.9/site-packages/tqdm/std.py?line=1197'>1198</a>\u001b[0m         \u001b[39m# Note: does not call self.update(1) for speed optimisation.\u001b[39;00m\n",
      "File \u001b[0;32m~/miniconda3/lib/python3.9/site-packages/torch/utils/data/_typing.py:366\u001b[0m, in \u001b[0;36mhook_iterator.<locals>.wrap_generator\u001b[0;34m(*args, **kwargs)\u001b[0m\n\u001b[1;32m    <a href='file:///home/adriano/miniconda3/lib/python3.9/site-packages/torch/utils/data/_typing.py?line=363'>364</a>\u001b[0m \u001b[39mtry\u001b[39;00m:\n\u001b[1;32m    <a href='file:///home/adriano/miniconda3/lib/python3.9/site-packages/torch/utils/data/_typing.py?line=364'>365</a>\u001b[0m     \u001b[39mwith\u001b[39;00m context():\n\u001b[0;32m--> <a href='file:///home/adriano/miniconda3/lib/python3.9/site-packages/torch/utils/data/_typing.py?line=365'>366</a>\u001b[0m         response \u001b[39m=\u001b[39m gen\u001b[39m.\u001b[39;49msend(\u001b[39mNone\u001b[39;49;00m)\n\u001b[1;32m    <a href='file:///home/adriano/miniconda3/lib/python3.9/site-packages/torch/utils/data/_typing.py?line=366'>367</a>\u001b[0m     \u001b[39mwhile\u001b[39;00m \u001b[39mTrue\u001b[39;00m:\n\u001b[1;32m    <a href='file:///home/adriano/miniconda3/lib/python3.9/site-packages/torch/utils/data/_typing.py?line=367'>368</a>\u001b[0m         request \u001b[39m=\u001b[39m \u001b[39myield\u001b[39;00m response\n",
      "File \u001b[0;32m~/miniconda3/lib/python3.9/site-packages/torch/utils/data/datapipes/iter/combining.py:46\u001b[0m, in \u001b[0;36mConcaterIterDataPipe.__iter__\u001b[0;34m(self)\u001b[0m\n\u001b[1;32m     <a href='file:///home/adriano/miniconda3/lib/python3.9/site-packages/torch/utils/data/datapipes/iter/combining.py?line=43'>44</a>\u001b[0m \u001b[39mdef\u001b[39;00m \u001b[39m__iter__\u001b[39m(\u001b[39mself\u001b[39m) \u001b[39m-\u001b[39m\u001b[39m>\u001b[39m Iterator:\n\u001b[1;32m     <a href='file:///home/adriano/miniconda3/lib/python3.9/site-packages/torch/utils/data/datapipes/iter/combining.py?line=44'>45</a>\u001b[0m     \u001b[39mfor\u001b[39;00m dp \u001b[39min\u001b[39;00m \u001b[39mself\u001b[39m\u001b[39m.\u001b[39mdatapipes:\n\u001b[0;32m---> <a href='file:///home/adriano/miniconda3/lib/python3.9/site-packages/torch/utils/data/datapipes/iter/combining.py?line=45'>46</a>\u001b[0m         \u001b[39mfor\u001b[39;00m data \u001b[39min\u001b[39;00m dp:\n\u001b[1;32m     <a href='file:///home/adriano/miniconda3/lib/python3.9/site-packages/torch/utils/data/datapipes/iter/combining.py?line=46'>47</a>\u001b[0m             \u001b[39myield\u001b[39;00m data\n",
      "File \u001b[0;32m~/miniconda3/lib/python3.9/site-packages/torch/utils/data/_typing.py:366\u001b[0m, in \u001b[0;36mhook_iterator.<locals>.wrap_generator\u001b[0;34m(*args, **kwargs)\u001b[0m\n\u001b[1;32m    <a href='file:///home/adriano/miniconda3/lib/python3.9/site-packages/torch/utils/data/_typing.py?line=363'>364</a>\u001b[0m \u001b[39mtry\u001b[39;00m:\n\u001b[1;32m    <a href='file:///home/adriano/miniconda3/lib/python3.9/site-packages/torch/utils/data/_typing.py?line=364'>365</a>\u001b[0m     \u001b[39mwith\u001b[39;00m context():\n\u001b[0;32m--> <a href='file:///home/adriano/miniconda3/lib/python3.9/site-packages/torch/utils/data/_typing.py?line=365'>366</a>\u001b[0m         response \u001b[39m=\u001b[39m gen\u001b[39m.\u001b[39;49msend(\u001b[39mNone\u001b[39;49;00m)\n\u001b[1;32m    <a href='file:///home/adriano/miniconda3/lib/python3.9/site-packages/torch/utils/data/_typing.py?line=366'>367</a>\u001b[0m     \u001b[39mwhile\u001b[39;00m \u001b[39mTrue\u001b[39;00m:\n\u001b[1;32m    <a href='file:///home/adriano/miniconda3/lib/python3.9/site-packages/torch/utils/data/_typing.py?line=367'>368</a>\u001b[0m         request \u001b[39m=\u001b[39m \u001b[39myield\u001b[39;00m response\n",
      "File \u001b[0;32m~/miniconda3/lib/python3.9/site-packages/torchdata/datapipes/iter/util/saver.py:48\u001b[0m, in \u001b[0;36mSaverIterDataPipe.__iter__\u001b[0;34m(self)\u001b[0m\n\u001b[1;32m     <a href='file:///home/adriano/miniconda3/lib/python3.9/site-packages/torchdata/datapipes/iter/util/saver.py?line=46'>47</a>\u001b[0m \u001b[39mdef\u001b[39;00m \u001b[39m__iter__\u001b[39m(\u001b[39mself\u001b[39m) \u001b[39m-\u001b[39m\u001b[39m>\u001b[39m Iterator[\u001b[39mstr\u001b[39m]:\n\u001b[0;32m---> <a href='file:///home/adriano/miniconda3/lib/python3.9/site-packages/torchdata/datapipes/iter/util/saver.py?line=47'>48</a>\u001b[0m     \u001b[39mfor\u001b[39;00m filepath, data \u001b[39min\u001b[39;00m \u001b[39mself\u001b[39m\u001b[39m.\u001b[39msource_datapipe:\n\u001b[1;32m     <a href='file:///home/adriano/miniconda3/lib/python3.9/site-packages/torchdata/datapipes/iter/util/saver.py?line=48'>49</a>\u001b[0m         \u001b[39mif\u001b[39;00m \u001b[39mself\u001b[39m\u001b[39m.\u001b[39mfn \u001b[39mis\u001b[39;00m \u001b[39mnot\u001b[39;00m \u001b[39mNone\u001b[39;00m:\n\u001b[1;32m     <a href='file:///home/adriano/miniconda3/lib/python3.9/site-packages/torchdata/datapipes/iter/util/saver.py?line=49'>50</a>\u001b[0m             filepath \u001b[39m=\u001b[39m \u001b[39mself\u001b[39m\u001b[39m.\u001b[39mfn(filepath)\n",
      "File \u001b[0;32m~/miniconda3/lib/python3.9/site-packages/torch/utils/data/_typing.py:366\u001b[0m, in \u001b[0;36mhook_iterator.<locals>.wrap_generator\u001b[0;34m(*args, **kwargs)\u001b[0m\n\u001b[1;32m    <a href='file:///home/adriano/miniconda3/lib/python3.9/site-packages/torch/utils/data/_typing.py?line=363'>364</a>\u001b[0m \u001b[39mtry\u001b[39;00m:\n\u001b[1;32m    <a href='file:///home/adriano/miniconda3/lib/python3.9/site-packages/torch/utils/data/_typing.py?line=364'>365</a>\u001b[0m     \u001b[39mwith\u001b[39;00m context():\n\u001b[0;32m--> <a href='file:///home/adriano/miniconda3/lib/python3.9/site-packages/torch/utils/data/_typing.py?line=365'>366</a>\u001b[0m         response \u001b[39m=\u001b[39m gen\u001b[39m.\u001b[39;49msend(\u001b[39mNone\u001b[39;49;00m)\n\u001b[1;32m    <a href='file:///home/adriano/miniconda3/lib/python3.9/site-packages/torch/utils/data/_typing.py?line=366'>367</a>\u001b[0m     \u001b[39mwhile\u001b[39;00m \u001b[39mTrue\u001b[39;00m:\n\u001b[1;32m    <a href='file:///home/adriano/miniconda3/lib/python3.9/site-packages/torch/utils/data/_typing.py?line=367'>368</a>\u001b[0m         request \u001b[39m=\u001b[39m \u001b[39myield\u001b[39;00m response\n",
      "File \u001b[0;32m~/miniconda3/lib/python3.9/site-packages/torch/utils/data/datapipes/iter/callable.py:112\u001b[0m, in \u001b[0;36mMapperIterDataPipe.__iter__\u001b[0;34m(self)\u001b[0m\n\u001b[1;32m    <a href='file:///home/adriano/miniconda3/lib/python3.9/site-packages/torch/utils/data/datapipes/iter/callable.py?line=110'>111</a>\u001b[0m \u001b[39mdef\u001b[39;00m \u001b[39m__iter__\u001b[39m(\u001b[39mself\u001b[39m) \u001b[39m-\u001b[39m\u001b[39m>\u001b[39m Iterator[T_co]:\n\u001b[0;32m--> <a href='file:///home/adriano/miniconda3/lib/python3.9/site-packages/torch/utils/data/datapipes/iter/callable.py?line=111'>112</a>\u001b[0m     \u001b[39mfor\u001b[39;00m data \u001b[39min\u001b[39;00m \u001b[39mself\u001b[39m\u001b[39m.\u001b[39mdatapipe:\n\u001b[1;32m    <a href='file:///home/adriano/miniconda3/lib/python3.9/site-packages/torch/utils/data/datapipes/iter/callable.py?line=112'>113</a>\u001b[0m         \u001b[39myield\u001b[39;00m \u001b[39mself\u001b[39m\u001b[39m.\u001b[39m_apply_fn(data)\n",
      "File \u001b[0;32m~/miniconda3/lib/python3.9/site-packages/torch/utils/data/_typing.py:366\u001b[0m, in \u001b[0;36mhook_iterator.<locals>.wrap_generator\u001b[0;34m(*args, **kwargs)\u001b[0m\n\u001b[1;32m    <a href='file:///home/adriano/miniconda3/lib/python3.9/site-packages/torch/utils/data/_typing.py?line=363'>364</a>\u001b[0m \u001b[39mtry\u001b[39;00m:\n\u001b[1;32m    <a href='file:///home/adriano/miniconda3/lib/python3.9/site-packages/torch/utils/data/_typing.py?line=364'>365</a>\u001b[0m     \u001b[39mwith\u001b[39;00m context():\n\u001b[0;32m--> <a href='file:///home/adriano/miniconda3/lib/python3.9/site-packages/torch/utils/data/_typing.py?line=365'>366</a>\u001b[0m         response \u001b[39m=\u001b[39m gen\u001b[39m.\u001b[39;49msend(\u001b[39mNone\u001b[39;49;00m)\n\u001b[1;32m    <a href='file:///home/adriano/miniconda3/lib/python3.9/site-packages/torch/utils/data/_typing.py?line=366'>367</a>\u001b[0m     \u001b[39mwhile\u001b[39;00m \u001b[39mTrue\u001b[39;00m:\n\u001b[1;32m    <a href='file:///home/adriano/miniconda3/lib/python3.9/site-packages/torch/utils/data/_typing.py?line=367'>368</a>\u001b[0m         request \u001b[39m=\u001b[39m \u001b[39myield\u001b[39;00m response\n",
      "File \u001b[0;32m~/miniconda3/lib/python3.9/site-packages/torch/utils/data/datapipes/iter/callable.py:113\u001b[0m, in \u001b[0;36mMapperIterDataPipe.__iter__\u001b[0;34m(self)\u001b[0m\n\u001b[1;32m    <a href='file:///home/adriano/miniconda3/lib/python3.9/site-packages/torch/utils/data/datapipes/iter/callable.py?line=110'>111</a>\u001b[0m \u001b[39mdef\u001b[39;00m \u001b[39m__iter__\u001b[39m(\u001b[39mself\u001b[39m) \u001b[39m-\u001b[39m\u001b[39m>\u001b[39m Iterator[T_co]:\n\u001b[1;32m    <a href='file:///home/adriano/miniconda3/lib/python3.9/site-packages/torch/utils/data/datapipes/iter/callable.py?line=111'>112</a>\u001b[0m     \u001b[39mfor\u001b[39;00m data \u001b[39min\u001b[39;00m \u001b[39mself\u001b[39m\u001b[39m.\u001b[39mdatapipe:\n\u001b[0;32m--> <a href='file:///home/adriano/miniconda3/lib/python3.9/site-packages/torch/utils/data/datapipes/iter/callable.py?line=112'>113</a>\u001b[0m         \u001b[39myield\u001b[39;00m \u001b[39mself\u001b[39;49m\u001b[39m.\u001b[39;49m_apply_fn(data)\n",
      "File \u001b[0;32m~/miniconda3/lib/python3.9/site-packages/torch/utils/data/datapipes/iter/callable.py:86\u001b[0m, in \u001b[0;36mMapperIterDataPipe._apply_fn\u001b[0;34m(self, data)\u001b[0m\n\u001b[1;32m     <a href='file:///home/adriano/miniconda3/lib/python3.9/site-packages/torch/utils/data/datapipes/iter/callable.py?line=83'>84</a>\u001b[0m     res \u001b[39m=\u001b[39m \u001b[39mself\u001b[39m\u001b[39m.\u001b[39mfn(\u001b[39m*\u001b[39margs)\n\u001b[1;32m     <a href='file:///home/adriano/miniconda3/lib/python3.9/site-packages/torch/utils/data/datapipes/iter/callable.py?line=84'>85</a>\u001b[0m \u001b[39melse\u001b[39;00m:\n\u001b[0;32m---> <a href='file:///home/adriano/miniconda3/lib/python3.9/site-packages/torch/utils/data/datapipes/iter/callable.py?line=85'>86</a>\u001b[0m     res \u001b[39m=\u001b[39m \u001b[39mself\u001b[39;49m\u001b[39m.\u001b[39;49mfn(data[\u001b[39mself\u001b[39;49m\u001b[39m.\u001b[39;49minput_col])\n\u001b[1;32m     <a href='file:///home/adriano/miniconda3/lib/python3.9/site-packages/torch/utils/data/datapipes/iter/callable.py?line=87'>88</a>\u001b[0m \u001b[39m# Copy tuple to list and run in-place modification because tuple is immutable.\u001b[39;00m\n\u001b[1;32m     <a href='file:///home/adriano/miniconda3/lib/python3.9/site-packages/torch/utils/data/datapipes/iter/callable.py?line=88'>89</a>\u001b[0m \u001b[39mif\u001b[39;00m \u001b[39misinstance\u001b[39m(data, \u001b[39mtuple\u001b[39m):\n",
      "File \u001b[0;32m~/miniconda3/lib/python3.9/site-packages/torchdata/datapipes/iter/util/cacheholder.py:223\u001b[0m, in \u001b[0;36m_read_bytes\u001b[0;34m(fd)\u001b[0m\n\u001b[1;32m    <a href='file:///home/adriano/miniconda3/lib/python3.9/site-packages/torchdata/datapipes/iter/util/cacheholder.py?line=221'>222</a>\u001b[0m \u001b[39mdef\u001b[39;00m \u001b[39m_read_bytes\u001b[39m(fd):\n\u001b[0;32m--> <a href='file:///home/adriano/miniconda3/lib/python3.9/site-packages/torchdata/datapipes/iter/util/cacheholder.py?line=222'>223</a>\u001b[0m     \u001b[39mreturn\u001b[39;00m \u001b[39mb\u001b[39;49m\u001b[39m\"\u001b[39;49m\u001b[39m\"\u001b[39;49m\u001b[39m.\u001b[39;49mjoin(fd)\n",
      "\u001b[0;31mTypeError\u001b[0m: can only join an iterable"
     ]
    }
   ],
   "source": [
    "for epoch in tqdm(range(5)):\n",
    "    for path, file in tqdm(datapipe):\n",
    "        pass"
   ]
  },
  {
   "cell_type": "code",
   "execution_count": null,
   "metadata": {},
   "outputs": [],
   "source": []
  },
  {
   "cell_type": "code",
   "execution_count": null,
   "metadata": {},
   "outputs": [],
   "source": []
  },
  {
   "cell_type": "code",
   "execution_count": null,
   "metadata": {},
   "outputs": [],
   "source": []
  },
  {
   "cell_type": "code",
   "execution_count": null,
   "metadata": {},
   "outputs": [],
   "source": []
  },
  {
   "cell_type": "code",
   "execution_count": null,
   "metadata": {},
   "outputs": [],
   "source": []
  },
  {
   "cell_type": "code",
   "execution_count": null,
   "metadata": {},
   "outputs": [],
   "source": []
  },
  {
   "cell_type": "code",
   "execution_count": null,
   "metadata": {},
   "outputs": [],
   "source": []
  },
  {
   "cell_type": "code",
   "execution_count": null,
   "metadata": {},
   "outputs": [],
   "source": []
  },
  {
   "cell_type": "code",
   "execution_count": null,
   "metadata": {},
   "outputs": [],
   "source": []
  },
  {
   "cell_type": "code",
   "execution_count": null,
   "metadata": {},
   "outputs": [],
   "source": []
  },
  {
   "cell_type": "code",
   "execution_count": null,
   "metadata": {},
   "outputs": [],
   "source": []
  },
  {
   "cell_type": "code",
   "execution_count": null,
   "metadata": {},
   "outputs": [],
   "source": []
  },
  {
   "cell_type": "code",
   "execution_count": null,
   "metadata": {},
   "outputs": [],
   "source": []
  }
 ],
 "metadata": {
  "interpreter": {
   "hash": "24353ae1934fab96e504e2fa1613a0c9d05a0896896b83da7d0ffe6921149c5e"
  },
  "kernelspec": {
   "display_name": "Python 3.9.10 ('base')",
   "language": "python",
   "name": "python3"
  },
  "language_info": {
   "codemirror_mode": {
    "name": "ipython",
    "version": 3
   },
   "file_extension": ".py",
   "mimetype": "text/x-python",
   "name": "python",
   "nbconvert_exporter": "python",
   "pygments_lexer": "ipython3",
   "version": "3.9.10"
  },
  "orig_nbformat": 4
 },
 "nbformat": 4,
 "nbformat_minor": 2
}
