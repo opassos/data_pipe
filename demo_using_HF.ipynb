{
 "cells": [
  {
   "cell_type": "code",
   "execution_count": 1,
   "metadata": {},
   "outputs": [],
   "source": [
    "from datasets import Dataset, DatasetDict\n",
    "import pandas as pd"
   ]
  },
  {
   "cell_type": "markdown",
   "metadata": {},
   "source": [
    "# Dataframe"
   ]
  },
  {
   "cell_type": "markdown",
   "metadata": {},
   "source": [
    "## From folder table"
   ]
  },
  {
   "cell_type": "code",
   "execution_count": 2,
   "metadata": {},
   "outputs": [],
   "source": [
    "from pathlib import Path"
   ]
  },
  {
   "cell_type": "code",
   "execution_count": 3,
   "metadata": {},
   "outputs": [],
   "source": [
    "path = Path('/home/adriano/datasets/anomaly_detection/cans')\n",
    "files = list(path.rglob('*.*'))"
   ]
  },
  {
   "cell_type": "code",
   "execution_count": 4,
   "metadata": {},
   "outputs": [
    {
     "data": {
      "text/html": [
       "<div>\n",
       "<style scoped>\n",
       "    .dataframe tbody tr th:only-of-type {\n",
       "        vertical-align: middle;\n",
       "    }\n",
       "\n",
       "    .dataframe tbody tr th {\n",
       "        vertical-align: top;\n",
       "    }\n",
       "\n",
       "    .dataframe thead th {\n",
       "        text-align: right;\n",
       "    }\n",
       "</style>\n",
       "<table border=\"1\" class=\"dataframe\">\n",
       "  <thead>\n",
       "    <tr style=\"text-align: right;\">\n",
       "      <th></th>\n",
       "      <th>path</th>\n",
       "      <th>label</th>\n",
       "      <th>split</th>\n",
       "    </tr>\n",
       "  </thead>\n",
       "  <tbody>\n",
       "    <tr>\n",
       "      <th>62</th>\n",
       "      <td>/home/adriano/datasets/anomaly_detection/cans/...</td>\n",
       "      <td>good</td>\n",
       "      <td>train</td>\n",
       "    </tr>\n",
       "    <tr>\n",
       "      <th>63</th>\n",
       "      <td>/home/adriano/datasets/anomaly_detection/cans/...</td>\n",
       "      <td>good</td>\n",
       "      <td>train</td>\n",
       "    </tr>\n",
       "    <tr>\n",
       "      <th>64</th>\n",
       "      <td>/home/adriano/datasets/anomaly_detection/cans/...</td>\n",
       "      <td>good</td>\n",
       "      <td>train</td>\n",
       "    </tr>\n",
       "    <tr>\n",
       "      <th>65</th>\n",
       "      <td>/home/adriano/datasets/anomaly_detection/cans/...</td>\n",
       "      <td>good</td>\n",
       "      <td>train</td>\n",
       "    </tr>\n",
       "    <tr>\n",
       "      <th>66</th>\n",
       "      <td>/home/adriano/datasets/anomaly_detection/cans/...</td>\n",
       "      <td>good</td>\n",
       "      <td>train</td>\n",
       "    </tr>\n",
       "  </tbody>\n",
       "</table>\n",
       "</div>"
      ],
      "text/plain": [
       "                                                 path label  split\n",
       "62  /home/adriano/datasets/anomaly_detection/cans/...  good  train\n",
       "63  /home/adriano/datasets/anomaly_detection/cans/...  good  train\n",
       "64  /home/adriano/datasets/anomaly_detection/cans/...  good  train\n",
       "65  /home/adriano/datasets/anomaly_detection/cans/...  good  train\n",
       "66  /home/adriano/datasets/anomaly_detection/cans/...  good  train"
      ]
     },
     "execution_count": 4,
     "metadata": {},
     "output_type": "execute_result"
    }
   ],
   "source": [
    "df = pd.DataFrame(dict(path=files))\n",
    "df['label'] = df.path.apply(lambda x: x.parent.name)\n",
    "df['split'] = df.path.apply(lambda x: x.parent.parent.name)\n",
    "df['path'] = df['path'].astype(str)\n",
    "df.tail()"
   ]
  },
  {
   "cell_type": "markdown",
   "metadata": {},
   "source": [
    "## HF dataset"
   ]
  },
  {
   "cell_type": "code",
   "execution_count": 14,
   "metadata": {},
   "outputs": [
    {
     "data": {
      "text/plain": [
       "Dataset({\n",
       "    features: ['path', 'label', 'split'],\n",
       "    num_rows: 67\n",
       "})"
      ]
     },
     "execution_count": 14,
     "metadata": {},
     "output_type": "execute_result"
    }
   ],
   "source": [
    "# single dataset\n",
    "dataset = Dataset.from_pandas(df)\n",
    "dataset"
   ]
  },
  {
   "cell_type": "code",
   "execution_count": 15,
   "metadata": {},
   "outputs": [
    {
     "data": {
      "text/plain": [
       "DatasetDict({\n",
       "    test: Dataset({\n",
       "        features: ['path', 'label', 'split'],\n",
       "        num_rows: 52\n",
       "    })\n",
       "    train: Dataset({\n",
       "        features: ['path', 'label', 'split'],\n",
       "        num_rows: 15\n",
       "    })\n",
       "})"
      ]
     },
     "execution_count": 15,
     "metadata": {},
     "output_type": "execute_result"
    }
   ],
   "source": [
    "# multiple datasets\n",
    "datasets = DatasetDict({\n",
    "    split:Dataset.from_pandas(df_split.reset_index(drop=True))\n",
    "    for split, df_split\n",
    "    in df.groupby('split')\n",
    "    })\n",
    "datasets"
   ]
  },
  {
   "cell_type": "code",
   "execution_count": 16,
   "metadata": {},
   "outputs": [
    {
     "data": {
      "text/plain": [
       "{'path': '/home/adriano/datasets/anomaly_detection/cans/train/good/00063.jpg',\n",
       " 'label': 'good',\n",
       " 'split': 'train'}"
      ]
     },
     "execution_count": 16,
     "metadata": {},
     "output_type": "execute_result"
    }
   ],
   "source": [
    "datasets['train'][0]"
   ]
  },
  {
   "cell_type": "markdown",
   "metadata": {},
   "source": [
    "### Getting the imgs"
   ]
  },
  {
   "cell_type": "code",
   "execution_count": 21,
   "metadata": {},
   "outputs": [],
   "source": [
    "from PIL import Image\n",
    "def read_img(examples): \n",
    "    examples['img'] = [Image.open(p) for p in examples['path']]\n",
    "    return examples"
   ]
  },
  {
   "cell_type": "code",
   "execution_count": 23,
   "metadata": {},
   "outputs": [
    {
     "data": {
      "application/vnd.jupyter.widget-view+json": {
       "model_id": "4af9aef376d44df0a179f66a26db6d53",
       "version_major": 2,
       "version_minor": 0
      },
      "text/plain": [
       "  0%|          | 0/1 [00:00<?, ?ba/s]"
      ]
     },
     "metadata": {},
     "output_type": "display_data"
    },
    {
     "data": {
      "application/vnd.jupyter.widget-view+json": {
       "model_id": "cc6dd3b66b004dbbb9528e588e20d4cd",
       "version_major": 2,
       "version_minor": 0
      },
      "text/plain": [
       "  0%|          | 0/1 [00:00<?, ?ba/s]"
      ]
     },
     "metadata": {},
     "output_type": "display_data"
    },
    {
     "data": {
      "text/plain": [
       "DatasetDict({\n",
       "    test: Dataset({\n",
       "        features: ['path', 'label', 'split', 'img'],\n",
       "        num_rows: 52\n",
       "    })\n",
       "    train: Dataset({\n",
       "        features: ['path', 'label', 'split', 'img'],\n",
       "        num_rows: 15\n",
       "    })\n",
       "})"
      ]
     },
     "execution_count": 23,
     "metadata": {},
     "output_type": "execute_result"
    }
   ],
   "source": [
    "datasets = datasets.map(read_img, batched=True)\n",
    "datasets"
   ]
  },
  {
   "cell_type": "code",
   "execution_count": 24,
   "metadata": {},
   "outputs": [
    {
     "data": {
      "text/plain": [
       "{'path': '/home/adriano/datasets/anomaly_detection/cans/train/good/00063.jpg',\n",
       " 'label': 'good',\n",
       " 'split': 'train',\n",
       " 'img': <PIL.JpegImagePlugin.JpegImageFile image mode=RGB size=640x480 at 0x7F1EA791A610>}"
      ]
     },
     "execution_count": 24,
     "metadata": {},
     "output_type": "execute_result"
    }
   ],
   "source": [
    "datasets['train'][0]"
   ]
  },
  {
   "cell_type": "markdown",
   "metadata": {},
   "source": [
    "### map with Input size != output size"
   ]
  },
  {
   "cell_type": "code",
   "execution_count": 27,
   "metadata": {},
   "outputs": [],
   "source": [
    "from torchvision.transforms import FiveCrop\n",
    "\n",
    "crop = FiveCrop(300)\n",
    "\n",
    "def five_crop(examples):\n",
    "    crops = []\n",
    "    labels = []\n",
    "    for img, label in zip(examples['img'], examples['label']):\n",
    "        crops.extend(crop(img))\n",
    "        labels.extend([label] * 5)\n",
    "    examples['img'] = crops\n",
    "    examples['label'] = labels\n",
    "    return examples"
   ]
  },
  {
   "cell_type": "code",
   "execution_count": 28,
   "metadata": {},
   "outputs": [
    {
     "data": {
      "application/vnd.jupyter.widget-view+json": {
       "model_id": "67f4abadfa9b4f3da4d4ecde51944620",
       "version_major": 2,
       "version_minor": 0
      },
      "text/plain": [
       "  0%|          | 0/7 [00:00<?, ?ba/s]"
      ]
     },
     "metadata": {},
     "output_type": "display_data"
    },
    {
     "data": {
      "application/vnd.jupyter.widget-view+json": {
       "model_id": "cfba502eb4234193a96e1a6f1056b785",
       "version_major": 2,
       "version_minor": 0
      },
      "text/plain": [
       "  0%|          | 0/2 [00:00<?, ?ba/s]"
      ]
     },
     "metadata": {},
     "output_type": "display_data"
    },
    {
     "data": {
      "text/plain": [
       "DatasetDict({\n",
       "    test: Dataset({\n",
       "        features: ['label', 'img'],\n",
       "        num_rows: 260\n",
       "    })\n",
       "    train: Dataset({\n",
       "        features: ['label', 'img'],\n",
       "        num_rows: 75\n",
       "    })\n",
       "})"
      ]
     },
     "execution_count": 28,
     "metadata": {},
     "output_type": "execute_result"
    }
   ],
   "source": [
    "datasets = datasets.map(five_crop, batched=True, remove_columns=['path', 'split'], batch_size=8)\n",
    "datasets"
   ]
  },
  {
   "cell_type": "markdown",
   "metadata": {},
   "source": [
    "### img-level Augmentation"
   ]
  },
  {
   "cell_type": "code",
   "execution_count": 29,
   "metadata": {},
   "outputs": [],
   "source": [
    "from torchvision.transforms import Compose, ColorJitter, ToTensor, Resize\n",
    "\n",
    "tfms = Compose(\n",
    "    [    Resize(224),\n",
    "         ColorJitter(brightness=0.25, contrast=0.25, saturation=0.25, hue=0.25),\n",
    "         ToTensor(),\n",
    "    ]\n",
    ")\n",
    "\n",
    "def transforms(examples):\n",
    "    examples['img'] = [tfms(image) for image in examples['img']]\n",
    "    return examples"
   ]
  },
  {
   "cell_type": "code",
   "execution_count": 30,
   "metadata": {},
   "outputs": [],
   "source": [
    "## on-the-fly transform\n",
    "datasets['train'].set_transform(transforms)"
   ]
  },
  {
   "cell_type": "code",
   "execution_count": 31,
   "metadata": {},
   "outputs": [
    {
     "data": {
      "text/plain": [
       "{'label': 'good',\n",
       " 'img': tensor([[[0.1490, 0.1490, 0.1529,  ..., 0.1294, 0.1294, 0.1373],\n",
       "          [0.1529, 0.1529, 0.1569,  ..., 0.1294, 0.1294, 0.1333],\n",
       "          [0.1529, 0.1529, 0.1569,  ..., 0.1294, 0.1294, 0.1333],\n",
       "          ...,\n",
       "          [0.1137, 0.1137, 0.1137,  ..., 0.1922, 0.2314, 0.2784],\n",
       "          [0.1137, 0.1137, 0.1137,  ..., 0.1294, 0.1373, 0.1451],\n",
       "          [0.1137, 0.1137, 0.1137,  ..., 0.1176, 0.1176, 0.1216]],\n",
       " \n",
       "         [[0.1490, 0.1490, 0.1529,  ..., 0.1294, 0.1294, 0.1373],\n",
       "          [0.1529, 0.1529, 0.1569,  ..., 0.1294, 0.1294, 0.1333],\n",
       "          [0.1529, 0.1529, 0.1569,  ..., 0.1294, 0.1294, 0.1333],\n",
       "          ...,\n",
       "          [0.1137, 0.1137, 0.1137,  ..., 0.1922, 0.2314, 0.2784],\n",
       "          [0.1137, 0.1137, 0.1137,  ..., 0.1294, 0.1373, 0.1451],\n",
       "          [0.1137, 0.1137, 0.1137,  ..., 0.1176, 0.1176, 0.1216]],\n",
       " \n",
       "         [[0.1490, 0.1490, 0.1529,  ..., 0.1294, 0.1294, 0.1373],\n",
       "          [0.1529, 0.1529, 0.1569,  ..., 0.1294, 0.1294, 0.1333],\n",
       "          [0.1529, 0.1529, 0.1569,  ..., 0.1294, 0.1294, 0.1333],\n",
       "          ...,\n",
       "          [0.1137, 0.1137, 0.1137,  ..., 0.1922, 0.2314, 0.2784],\n",
       "          [0.1137, 0.1137, 0.1137,  ..., 0.1294, 0.1373, 0.1451],\n",
       "          [0.1137, 0.1137, 0.1137,  ..., 0.1176, 0.1176, 0.1216]]])}"
      ]
     },
     "execution_count": 31,
     "metadata": {},
     "output_type": "execute_result"
    }
   ],
   "source": [
    "datasets['train'][0]"
   ]
  },
  {
   "cell_type": "code",
   "execution_count": 32,
   "metadata": {},
   "outputs": [
    {
     "data": {
      "text/plain": [
       "{'label': 'good',\n",
       " 'img': <PIL.PngImagePlugin.PngImageFile image mode=RGB size=300x300 at 0x7F1E9F079B80>}"
      ]
     },
     "execution_count": 32,
     "metadata": {},
     "output_type": "execute_result"
    }
   ],
   "source": [
    "datasets['test'][0]"
   ]
  },
  {
   "cell_type": "markdown",
   "metadata": {},
   "source": [
    "## From dataset to dataloader"
   ]
  },
  {
   "cell_type": "code",
   "execution_count": 33,
   "metadata": {},
   "outputs": [],
   "source": [
    "from torch.utils.data import DataLoader\n",
    "\n",
    "train_dl = DataLoader(datasets['train'], batch_size=8)"
   ]
  },
  {
   "cell_type": "code",
   "execution_count": 34,
   "metadata": {},
   "outputs": [],
   "source": [
    "for batch in train_dl:\n",
    "    break"
   ]
  },
  {
   "cell_type": "code",
   "execution_count": 35,
   "metadata": {},
   "outputs": [
    {
     "data": {
      "text/plain": [
       "{'label': ['good', 'good', 'good', 'good', 'good', 'good', 'good', 'good'],\n",
       " 'img': tensor([[[[0.1490, 0.1490, 0.1529,  ..., 0.1176, 0.1255, 0.1294],\n",
       "           [0.1529, 0.1529, 0.1569,  ..., 0.1255, 0.1255, 0.1255],\n",
       "           [0.1529, 0.1529, 0.1569,  ..., 0.1255, 0.1176, 0.1255],\n",
       "           ...,\n",
       "           [0.0941, 0.0941, 0.0941,  ..., 0.2118, 0.2706, 0.3373],\n",
       "           [0.0941, 0.0941, 0.0941,  ..., 0.1255, 0.1294, 0.1451],\n",
       "           [0.0941, 0.0941, 0.0941,  ..., 0.0980, 0.1059, 0.1098]],\n",
       " \n",
       "          [[0.1490, 0.1490, 0.1529,  ..., 0.1176, 0.1255, 0.1294],\n",
       "           [0.1529, 0.1529, 0.1569,  ..., 0.1255, 0.1255, 0.1255],\n",
       "           [0.1529, 0.1529, 0.1569,  ..., 0.1255, 0.1176, 0.1255],\n",
       "           ...,\n",
       "           [0.0941, 0.0941, 0.0941,  ..., 0.2118, 0.2706, 0.3373],\n",
       "           [0.0941, 0.0941, 0.0941,  ..., 0.1255, 0.1294, 0.1451],\n",
       "           [0.0941, 0.0941, 0.0941,  ..., 0.0980, 0.1059, 0.1098]],\n",
       " \n",
       "          [[0.1490, 0.1490, 0.1529,  ..., 0.1176, 0.1255, 0.1294],\n",
       "           [0.1529, 0.1529, 0.1569,  ..., 0.1255, 0.1255, 0.1255],\n",
       "           [0.1529, 0.1529, 0.1569,  ..., 0.1255, 0.1176, 0.1255],\n",
       "           ...,\n",
       "           [0.0941, 0.0941, 0.0941,  ..., 0.2118, 0.2706, 0.3373],\n",
       "           [0.0941, 0.0941, 0.0941,  ..., 0.1255, 0.1294, 0.1451],\n",
       "           [0.0941, 0.0941, 0.0941,  ..., 0.0980, 0.1059, 0.1098]]],\n",
       " \n",
       " \n",
       "         [[[0.0941, 0.0863, 0.0863,  ..., 0.0510, 0.0510, 0.0510],\n",
       "           [0.0941, 0.0902, 0.0902,  ..., 0.0510, 0.0510, 0.0510],\n",
       "           [0.0784, 0.0784, 0.0745,  ..., 0.0510, 0.0510, 0.0510],\n",
       "           ...,\n",
       "           [0.3843, 0.4431, 0.4745,  ..., 0.0510, 0.0510, 0.0510],\n",
       "           [0.4431, 0.5098, 0.7412,  ..., 0.0510, 0.0510, 0.0510],\n",
       "           [0.6118, 0.8392, 1.0000,  ..., 0.0510, 0.0510, 0.0510]],\n",
       " \n",
       "          [[0.0941, 0.0863, 0.0863,  ..., 0.0510, 0.0510, 0.0510],\n",
       "           [0.0941, 0.0902, 0.0902,  ..., 0.0510, 0.0510, 0.0510],\n",
       "           [0.0784, 0.0784, 0.0745,  ..., 0.0510, 0.0510, 0.0510],\n",
       "           ...,\n",
       "           [0.3843, 0.4431, 0.4745,  ..., 0.0510, 0.0510, 0.0510],\n",
       "           [0.4431, 0.5098, 0.7412,  ..., 0.0510, 0.0510, 0.0510],\n",
       "           [0.6118, 0.8392, 1.0000,  ..., 0.0510, 0.0510, 0.0510]],\n",
       " \n",
       "          [[0.0941, 0.0863, 0.0863,  ..., 0.0510, 0.0510, 0.0510],\n",
       "           [0.0941, 0.0902, 0.0902,  ..., 0.0510, 0.0510, 0.0510],\n",
       "           [0.0784, 0.0784, 0.0745,  ..., 0.0510, 0.0510, 0.0510],\n",
       "           ...,\n",
       "           [0.3843, 0.4431, 0.4745,  ..., 0.0510, 0.0510, 0.0510],\n",
       "           [0.4431, 0.5098, 0.7412,  ..., 0.0510, 0.0510, 0.0510],\n",
       "           [0.6118, 0.8392, 1.0000,  ..., 0.0510, 0.0510, 0.0510]]],\n",
       " \n",
       " \n",
       "         [[[0.0824, 0.0824, 0.0824,  ..., 0.7490, 0.7490, 0.7490],\n",
       "           [0.0824, 0.0824, 0.0824,  ..., 0.7490, 0.7490, 0.7490],\n",
       "           [0.0824, 0.0824, 0.0824,  ..., 0.7490, 0.7490, 0.7490],\n",
       "           ...,\n",
       "           [0.0824, 0.0824, 0.0824,  ..., 0.1020, 0.1020, 0.1020],\n",
       "           [0.0824, 0.0824, 0.0824,  ..., 0.1020, 0.1059, 0.1098],\n",
       "           [0.0824, 0.0824, 0.0824,  ..., 0.1098, 0.1098, 0.1098]],\n",
       " \n",
       "          [[0.0824, 0.0824, 0.0824,  ..., 0.7490, 0.7490, 0.7490],\n",
       "           [0.0824, 0.0824, 0.0824,  ..., 0.7490, 0.7490, 0.7490],\n",
       "           [0.0824, 0.0824, 0.0824,  ..., 0.7490, 0.7490, 0.7490],\n",
       "           ...,\n",
       "           [0.0824, 0.0824, 0.0824,  ..., 0.1020, 0.1020, 0.1020],\n",
       "           [0.0824, 0.0824, 0.0824,  ..., 0.1020, 0.1059, 0.1098],\n",
       "           [0.0824, 0.0824, 0.0824,  ..., 0.1098, 0.1098, 0.1098]],\n",
       " \n",
       "          [[0.0824, 0.0824, 0.0824,  ..., 0.7490, 0.7490, 0.7490],\n",
       "           [0.0824, 0.0824, 0.0824,  ..., 0.7490, 0.7490, 0.7490],\n",
       "           [0.0824, 0.0824, 0.0824,  ..., 0.7490, 0.7490, 0.7490],\n",
       "           ...,\n",
       "           [0.0824, 0.0824, 0.0824,  ..., 0.1020, 0.1020, 0.1020],\n",
       "           [0.0824, 0.0824, 0.0824,  ..., 0.1020, 0.1059, 0.1098],\n",
       "           [0.0824, 0.0824, 0.0824,  ..., 0.1098, 0.1098, 0.1098]]],\n",
       " \n",
       " \n",
       "         ...,\n",
       " \n",
       " \n",
       "         [[[0.0863, 0.0902, 0.0902,  ..., 0.0706, 0.0706, 0.0706],\n",
       "           [0.0902, 0.0902, 0.0941,  ..., 0.0706, 0.0706, 0.0706],\n",
       "           [0.0902, 0.0902, 0.0941,  ..., 0.0667, 0.0667, 0.0706],\n",
       "           ...,\n",
       "           [0.0510, 0.0510, 0.0510,  ..., 0.7490, 0.7490, 0.7490],\n",
       "           [0.0510, 0.0510, 0.0510,  ..., 0.7490, 0.7490, 0.7490],\n",
       "           [0.0510, 0.0510, 0.0510,  ..., 0.6941, 0.7490, 0.7490]],\n",
       " \n",
       "          [[0.0863, 0.0902, 0.0902,  ..., 0.0706, 0.0706, 0.0706],\n",
       "           [0.0902, 0.0902, 0.0941,  ..., 0.0706, 0.0706, 0.0706],\n",
       "           [0.0902, 0.0902, 0.0941,  ..., 0.0667, 0.0667, 0.0706],\n",
       "           ...,\n",
       "           [0.0510, 0.0510, 0.0510,  ..., 0.7490, 0.7490, 0.7490],\n",
       "           [0.0510, 0.0510, 0.0510,  ..., 0.7490, 0.7490, 0.7490],\n",
       "           [0.0510, 0.0510, 0.0510,  ..., 0.6941, 0.7490, 0.7490]],\n",
       " \n",
       "          [[0.0863, 0.0902, 0.0902,  ..., 0.0706, 0.0706, 0.0706],\n",
       "           [0.0902, 0.0902, 0.0941,  ..., 0.0706, 0.0706, 0.0706],\n",
       "           [0.0902, 0.0902, 0.0941,  ..., 0.0667, 0.0667, 0.0706],\n",
       "           ...,\n",
       "           [0.0510, 0.0510, 0.0510,  ..., 0.7490, 0.7490, 0.7490],\n",
       "           [0.0510, 0.0510, 0.0510,  ..., 0.7490, 0.7490, 0.7490],\n",
       "           [0.0510, 0.0510, 0.0510,  ..., 0.6941, 0.7490, 0.7490]]],\n",
       " \n",
       " \n",
       "         [[[0.0824, 0.0824, 0.0824,  ..., 0.0667, 0.0667, 0.0667],\n",
       "           [0.0863, 0.0902, 0.0863,  ..., 0.0667, 0.0667, 0.0667],\n",
       "           [0.0824, 0.0824, 0.0824,  ..., 0.0667, 0.0667, 0.0667],\n",
       "           ...,\n",
       "           [0.3765, 0.2353, 0.1373,  ..., 0.0667, 0.0667, 0.0667],\n",
       "           [0.1529, 0.1098, 0.0941,  ..., 0.0667, 0.0667, 0.0667],\n",
       "           [0.0980, 0.0824, 0.0824,  ..., 0.0667, 0.0667, 0.0667]],\n",
       " \n",
       "          [[0.0824, 0.0824, 0.0824,  ..., 0.0667, 0.0667, 0.0667],\n",
       "           [0.0863, 0.0902, 0.0863,  ..., 0.0667, 0.0667, 0.0667],\n",
       "           [0.0824, 0.0824, 0.0824,  ..., 0.0667, 0.0667, 0.0667],\n",
       "           ...,\n",
       "           [0.3765, 0.2353, 0.1373,  ..., 0.0667, 0.0667, 0.0667],\n",
       "           [0.1529, 0.1098, 0.0941,  ..., 0.0667, 0.0667, 0.0667],\n",
       "           [0.0980, 0.0824, 0.0824,  ..., 0.0667, 0.0667, 0.0667]],\n",
       " \n",
       "          [[0.0824, 0.0824, 0.0824,  ..., 0.0667, 0.0667, 0.0667],\n",
       "           [0.0863, 0.0902, 0.0863,  ..., 0.0667, 0.0667, 0.0667],\n",
       "           [0.0824, 0.0824, 0.0824,  ..., 0.0667, 0.0667, 0.0667],\n",
       "           ...,\n",
       "           [0.3765, 0.2353, 0.1373,  ..., 0.0667, 0.0667, 0.0667],\n",
       "           [0.1529, 0.1098, 0.0941,  ..., 0.0667, 0.0667, 0.0667],\n",
       "           [0.0980, 0.0824, 0.0824,  ..., 0.0667, 0.0667, 0.0667]]],\n",
       " \n",
       " \n",
       "         [[[0.0706, 0.0706, 0.0706,  ..., 0.8078, 0.8314, 0.7804],\n",
       "           [0.0667, 0.0667, 0.0667,  ..., 0.8314, 0.8392, 0.8392],\n",
       "           [0.0706, 0.0667, 0.0667,  ..., 0.8392, 0.8392, 0.8392],\n",
       "           ...,\n",
       "           [0.0667, 0.0667, 0.0667,  ..., 0.0941, 0.0902, 0.0902],\n",
       "           [0.0667, 0.0667, 0.0667,  ..., 0.0941, 0.0941, 0.0980],\n",
       "           [0.0667, 0.0667, 0.0667,  ..., 0.0980, 0.0980, 0.1020]],\n",
       " \n",
       "          [[0.0706, 0.0706, 0.0706,  ..., 0.8078, 0.8314, 0.7804],\n",
       "           [0.0667, 0.0667, 0.0667,  ..., 0.8314, 0.8392, 0.8392],\n",
       "           [0.0706, 0.0667, 0.0667,  ..., 0.8392, 0.8392, 0.8392],\n",
       "           ...,\n",
       "           [0.0667, 0.0667, 0.0667,  ..., 0.0941, 0.0902, 0.0902],\n",
       "           [0.0667, 0.0667, 0.0667,  ..., 0.0941, 0.0941, 0.0980],\n",
       "           [0.0667, 0.0667, 0.0667,  ..., 0.0980, 0.0980, 0.1020]],\n",
       " \n",
       "          [[0.0706, 0.0706, 0.0706,  ..., 0.8078, 0.8314, 0.7804],\n",
       "           [0.0667, 0.0667, 0.0667,  ..., 0.8314, 0.8392, 0.8392],\n",
       "           [0.0706, 0.0667, 0.0667,  ..., 0.8392, 0.8392, 0.8392],\n",
       "           ...,\n",
       "           [0.0667, 0.0667, 0.0667,  ..., 0.0941, 0.0902, 0.0902],\n",
       "           [0.0667, 0.0667, 0.0667,  ..., 0.0941, 0.0941, 0.0980],\n",
       "           [0.0667, 0.0667, 0.0667,  ..., 0.0980, 0.0980, 0.1020]]]])}"
      ]
     },
     "execution_count": 35,
     "metadata": {},
     "output_type": "execute_result"
    }
   ],
   "source": [
    "batch"
   ]
  },
  {
   "cell_type": "code",
   "execution_count": null,
   "metadata": {},
   "outputs": [],
   "source": []
  }
 ],
 "metadata": {
  "interpreter": {
   "hash": "24353ae1934fab96e504e2fa1613a0c9d05a0896896b83da7d0ffe6921149c5e"
  },
  "kernelspec": {
   "display_name": "Python 3.9.10 ('base')",
   "language": "python",
   "name": "python3"
  },
  "language_info": {
   "codemirror_mode": {
    "name": "ipython",
    "version": 3
   },
   "file_extension": ".py",
   "mimetype": "text/x-python",
   "name": "python",
   "nbconvert_exporter": "python",
   "pygments_lexer": "ipython3",
   "version": "3.9.10"
  },
  "orig_nbformat": 4
 },
 "nbformat": 4,
 "nbformat_minor": 2
}
